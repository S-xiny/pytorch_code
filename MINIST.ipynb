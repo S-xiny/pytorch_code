{
 "cells": [
  {
   "cell_type": "code",
   "execution_count": 1,
   "id": "f154215e",
   "metadata": {},
   "outputs": [],
   "source": [
    "import torch\n",
    "from torchvision import transforms\n",
    "from torchvision import datasets\n",
    "from torch.utils.data import DataLoader\n",
    "import torch.nn.functional as F\n",
    "import torch.optim as optim"
   ]
  },
  {
   "cell_type": "code",
   "execution_count": 2,
   "id": "2657eb80",
   "metadata": {},
   "outputs": [],
   "source": [
    "batch_size = 64\n",
    "transform = transforms.Compose([\n",
    "    transforms.ToTensor(),\n",
    "    transforms.Normalize((0.1307,),(0.3081,))\n",
    "])\n",
    "\n",
    "train_dataset = datasets.MNIST(root = '../dataset/mnist/',\n",
    "                              train=True,\n",
    "                              download = True,\n",
    "                              transform = transform)\n",
    "train_loader = DataLoader(train_dataset,\n",
    "                         shuffle = True,\n",
    "                         batch_size = batch_size)\n",
    "test_dataset = datasets.MNIST(root = '../dataset/mnist/',\n",
    "                             train = False,\n",
    "                             download = True,\n",
    "                             transform = transform)\n",
    "test_loader = DataLoader(test_dataset,\n",
    "                        shuffle = False,\n",
    "                        batch_size = batch_size)"
   ]
  },
  {
   "cell_type": "code",
   "execution_count": 3,
   "id": "8fe4568a",
   "metadata": {},
   "outputs": [],
   "source": [
    "class Net(torch.nn.Module):\n",
    "    def __init__(self):\n",
    "        super(Net, self).__init__()\n",
    "        self.l1 = torch.nn.Linear(784, 512)\n",
    "        self.l2 = torch.nn.Linear(512, 256)\n",
    "        self.l3 = torch.nn.Linear(256, 128)\n",
    "        self.l4 = torch.nn.Linear(128, 64)\n",
    "        self.l5 = torch.nn.Linear(64, 10)\n",
    "    def forward(self, x):\n",
    "        x = x.view(-1, 784)\n",
    "        x = F.relu(self.l1(x))\n",
    "        x = F.relu(self.l2(x))\n",
    "        x = F.relu(self.l3(x))\n",
    "        x = F.relu(self.l4(x))\n",
    "        return self.l5(x)\n",
    "model = Net()"
   ]
  },
  {
   "cell_type": "code",
   "execution_count": 4,
   "id": "86150572",
   "metadata": {},
   "outputs": [],
   "source": [
    "criterion = torch.nn.CrossEntropyLoss()\n",
    "optimizer = optim.SGD(model.parameters(), lr = 0.01, momentum = 0.5)"
   ]
  },
  {
   "cell_type": "code",
   "execution_count": 5,
   "id": "f3a37536",
   "metadata": {},
   "outputs": [],
   "source": [
    "def train(epoch):\n",
    "    running_loss = 0.0\n",
    "    for batch_idx, data in enumerate(train_loader, 0):\n",
    "        inputs, target = data\n",
    "        optimizer.zero_grad()\n",
    "        \n",
    "        #forward\n",
    "        outputs = model(inputs)\n",
    "        loss = criterion(outputs, target)\n",
    "        loss.backward()\n",
    "        optimizer.step()\n",
    "        \n",
    "        running_loss += loss.item()\n",
    "        if batch_idx % 300 == 299:\n",
    "            print('[%d, %5d] loss: %.3f' % (epoch +1, batch_idx +1, running_loss / 300))\n",
    "            running_loss = 0.0"
   ]
  },
  {
   "cell_type": "code",
   "execution_count": 6,
   "id": "bf575eb7",
   "metadata": {},
   "outputs": [],
   "source": [
    "def test():\n",
    "    correct = 0\n",
    "    total = 0\n",
    "    with torch.no_grad():\n",
    "        for data in test_loader:\n",
    "            images, labels = data\n",
    "            outputs = model(images)\n",
    "            _, predicted = torch.max(outputs.data, dim = 1)\n",
    "            total += labels.size(0)\n",
    "            correct += (predicted == labels).sum().item()\n",
    "        print('Accuracy on test set: %d %%' % (100 * correct / total))"
   ]
  },
  {
   "cell_type": "code",
   "execution_count": 7,
   "id": "ab298559",
   "metadata": {},
   "outputs": [
    {
     "name": "stdout",
     "output_type": "stream",
     "text": [
      "[1,   300] loss: 2.196\n",
      "[1,   600] loss: 0.842\n",
      "[1,   900] loss: 0.422\n",
      "Accuracy on test set: 88 %\n",
      "[2,   300] loss: 0.307\n",
      "[2,   600] loss: 0.266\n",
      "[2,   900] loss: 0.231\n",
      "Accuracy on test set: 93 %\n",
      "[3,   300] loss: 0.192\n",
      "[3,   600] loss: 0.164\n",
      "[3,   900] loss: 0.158\n",
      "Accuracy on test set: 95 %\n",
      "[4,   300] loss: 0.132\n",
      "[4,   600] loss: 0.129\n",
      "[4,   900] loss: 0.116\n",
      "Accuracy on test set: 96 %\n",
      "[5,   300] loss: 0.102\n",
      "[5,   600] loss: 0.101\n",
      "[5,   900] loss: 0.090\n",
      "Accuracy on test set: 96 %\n",
      "[6,   300] loss: 0.076\n",
      "[6,   600] loss: 0.081\n",
      "[6,   900] loss: 0.079\n",
      "Accuracy on test set: 97 %\n",
      "[7,   300] loss: 0.064\n",
      "[7,   600] loss: 0.059\n",
      "[7,   900] loss: 0.067\n",
      "Accuracy on test set: 97 %\n",
      "[8,   300] loss: 0.052\n",
      "[8,   600] loss: 0.053\n",
      "[8,   900] loss: 0.051\n",
      "Accuracy on test set: 96 %\n",
      "[9,   300] loss: 0.043\n",
      "[9,   600] loss: 0.043\n",
      "[9,   900] loss: 0.042\n",
      "Accuracy on test set: 97 %\n",
      "[10,   300] loss: 0.035\n",
      "[10,   600] loss: 0.035\n",
      "[10,   900] loss: 0.036\n",
      "Accuracy on test set: 97 %\n"
     ]
    }
   ],
   "source": [
    "if __name__ == '__main__':\n",
    "    for epoch in range(10):\n",
    "        train(epoch)\n",
    "        test()"
   ]
  },
  {
   "cell_type": "code",
   "execution_count": null,
   "id": "187cf555",
   "metadata": {},
   "outputs": [],
   "source": []
  }
 ],
 "metadata": {
  "kernelspec": {
   "display_name": "Python 3 (ipykernel)",
   "language": "python",
   "name": "python3"
  },
  "language_info": {
   "codemirror_mode": {
    "name": "ipython",
    "version": 3
   },
   "file_extension": ".py",
   "mimetype": "text/x-python",
   "name": "python",
   "nbconvert_exporter": "python",
   "pygments_lexer": "ipython3",
   "version": "3.9.13"
  }
 },
 "nbformat": 4,
 "nbformat_minor": 5
}
