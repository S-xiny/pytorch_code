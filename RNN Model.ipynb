{
 "cells": [
  {
   "cell_type": "code",
   "execution_count": 12,
   "id": "f37163e7",
   "metadata": {},
   "outputs": [],
   "source": [
    "import torch"
   ]
  },
  {
   "cell_type": "code",
   "execution_count": 13,
   "id": "17879d52",
   "metadata": {},
   "outputs": [],
   "source": [
    "input_size = 4\n",
    "hidden_size = 4\n",
    "batch_size = 1\n",
    "num_layers = 1\n",
    "seq_len = 5"
   ]
  },
  {
   "cell_type": "code",
   "execution_count": 14,
   "id": "e01e1db5",
   "metadata": {},
   "outputs": [],
   "source": [
    "idx2char = ['e','h','l','o']\n",
    "x_data = [1,0,2,2,3]\n",
    "y_data = [3,1,2,3,2]\n",
    "one_hot_lookup = [[1,0,0,0],\n",
    "                 [0,1,0,0],\n",
    "                 [0,0,1,0],\n",
    "                 [0,0,0,1]]\n",
    "x_one_hot = [one_hot_lookup[x] for x in x_data]\n",
    "\n",
    "inputs = torch.Tensor(x_one_hot).view(seq_len, batch_size, input_size)\n",
    "labels = torch.LongTensor(y_data)"
   ]
  },
  {
   "cell_type": "code",
   "execution_count": 19,
   "id": "35a79b38",
   "metadata": {},
   "outputs": [],
   "source": [
    "class Model(torch.nn.Module):\n",
    "    def __init__(self, input_size, hidden_size, batch_size, num_layers = 1):\n",
    "        super(Model, self).__init__()\n",
    "        self.num_layers = num_layers\n",
    "        self.batch_size = batch_size\n",
    "        self.input_size = input_size\n",
    "        self.hidden_size = hidden_size\n",
    "        self.rnn = torch.nn.RNN(input_size = self.input_size, \n",
    "                                hidden_size = self.hidden_size,\n",
    "                               num_layers = num_layers)\n",
    "        \n",
    "    def forward(self, input):\n",
    "        hidden = torch.zeros(self.num_layers,\n",
    "                            self.batch_size,\n",
    "                            self.hidden_size)\n",
    "        out, _ = self.rnn(input, hidden)\n",
    "        return out.view(-1, self.hidden_size)\n",
    "\n",
    "\n",
    "net = Model(input_size, hidden_size, batch_size, num_layers)"
   ]
  },
  {
   "cell_type": "code",
   "execution_count": 20,
   "id": "241dc303",
   "metadata": {},
   "outputs": [],
   "source": [
    "criterion = torch.nn.CrossEntropyLoss()\n",
    "optimizer = torch.optim.Adam(net.parameters(), lr = 0.05)"
   ]
  },
  {
   "cell_type": "code",
   "execution_count": 26,
   "id": "7eb544bf",
   "metadata": {},
   "outputs": [
    {
     "name": "stdout",
     "output_type": "stream",
     "text": [
      "Predicted:  ohlol\n",
      ", Epoch [1/15] loss = 0.493\n",
      "Predicted:  ohlol\n",
      ", Epoch [2/15] loss = 0.478\n",
      "Predicted:  ohlol\n",
      ", Epoch [3/15] loss = 0.464\n",
      "Predicted:  ohlol\n",
      ", Epoch [4/15] loss = 0.452\n",
      "Predicted:  ohlol\n",
      ", Epoch [5/15] loss = 0.442\n",
      "Predicted:  ohlol\n",
      ", Epoch [6/15] loss = 0.434\n",
      "Predicted:  ohlol\n",
      ", Epoch [7/15] loss = 0.427\n",
      "Predicted:  ohlol\n",
      ", Epoch [8/15] loss = 0.421\n",
      "Predicted:  ohlol\n",
      ", Epoch [9/15] loss = 0.416\n",
      "Predicted:  ohlol\n",
      ", Epoch [10/15] loss = 0.410\n",
      "Predicted:  ohlol\n",
      ", Epoch [11/15] loss = 0.405\n",
      "Predicted:  ohlol\n",
      ", Epoch [12/15] loss = 0.401\n",
      "Predicted:  ohlol\n",
      ", Epoch [13/15] loss = 0.396\n",
      "Predicted:  ohlol\n",
      ", Epoch [14/15] loss = 0.393\n",
      "Predicted:  ohlol\n",
      ", Epoch [15/15] loss = 0.390\n"
     ]
    }
   ],
   "source": [
    "for epoch in range(15):\n",
    "    optimizer.zero_grad()\n",
    "    outputs = net(inputs)\n",
    "    loss = criterion(outputs, labels)\n",
    "    loss.backward()\n",
    "    optimizer.step()\n",
    "    \n",
    "    _,idx = outputs.max(dim = 1)\n",
    "    idx = idx.data.numpy()\n",
    "    print('Predicted: ', ''.join([idx2char[x] for x in idx]))\n",
    "    print(', Epoch [%d/15] loss = %.3f' % (epoch+1,loss.item()))"
   ]
  },
  {
   "cell_type": "code",
   "execution_count": null,
   "id": "bd61ba1f",
   "metadata": {},
   "outputs": [],
   "source": []
  }
 ],
 "metadata": {
  "kernelspec": {
   "display_name": "Python 3",
   "language": "python",
   "name": "python3"
  },
  "language_info": {
   "codemirror_mode": {
    "name": "ipython",
    "version": 3
   },
   "file_extension": ".py",
   "mimetype": "text/x-python",
   "name": "python",
   "nbconvert_exporter": "python",
   "pygments_lexer": "ipython3",
   "version": "3.8.8"
  }
 },
 "nbformat": 4,
 "nbformat_minor": 5
}
