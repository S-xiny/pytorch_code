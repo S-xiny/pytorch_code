{
 "cells": [
  {
   "cell_type": "code",
   "execution_count": 1,
   "id": "496193d4",
   "metadata": {},
   "outputs": [],
   "source": [
    "import torch"
   ]
  },
  {
   "cell_type": "code",
   "execution_count": 7,
   "id": "e9043281",
   "metadata": {},
   "outputs": [],
   "source": [
    "batch_size = 1\n",
    "seq_len = 3\n",
    "input_size = 4\n",
    "hidden_size = 2\n",
    "num_layers = 1"
   ]
  },
  {
   "cell_type": "code",
   "execution_count": 3,
   "id": "58116b26",
   "metadata": {},
   "outputs": [],
   "source": [
    "cell = torch.nn.RNNCell(input_size = input_size, hidden_size = hidden_size)\n",
    "\n",
    "dataset = torch.randn(seq_len, batch_size, input_size)\n",
    "hidden = torch.zeros(batch_size, hidden_size)"
   ]
  },
  {
   "cell_type": "code",
   "execution_count": 5,
   "id": "a7e12e47",
   "metadata": {},
   "outputs": [
    {
     "name": "stdout",
     "output_type": "stream",
     "text": [
      "- - - - - - - - - - - - - - - - - - - -  0 --------------------\n",
      "Input size:  torch.Size([1, 4])\n",
      "outputs size:  torch.Size([1, 2])\n",
      "tensor([[ 0.8865, -0.8922]], grad_fn=<TanhBackward0>)\n",
      "- - - - - - - - - - - - - - - - - - - -  1 --------------------\n",
      "Input size:  torch.Size([1, 4])\n",
      "outputs size:  torch.Size([1, 2])\n",
      "tensor([[ 0.6116, -0.8016]], grad_fn=<TanhBackward0>)\n",
      "- - - - - - - - - - - - - - - - - - - -  2 --------------------\n",
      "Input size:  torch.Size([1, 4])\n",
      "outputs size:  torch.Size([1, 2])\n",
      "tensor([[ 0.9305, -0.9211]], grad_fn=<TanhBackward0>)\n"
     ]
    }
   ],
   "source": [
    "for idx, input in enumerate(dataset):\n",
    "    print('- ' * 20, idx, '-' * 20)\n",
    "    print('Input size: ', input.shape)\n",
    "    \n",
    "    hidden = cell(input, hidden)\n",
    "    \n",
    "    print('outputs size: ', hidden.shape)\n",
    "    print(hidden)"
   ]
  },
  {
   "cell_type": "code",
   "execution_count": 9,
   "id": "354ab16f",
   "metadata": {},
   "outputs": [],
   "source": [
    "cell = torch.nn.RNN(input_size = input_size, hidden_size = hidden_size, num_layers = num_layers)\n",
    "inputs = torch.randn(seq_len, batch_size, input_size)\n",
    "hidden = torch.zeros(num_layers, batch_size, hidden_size)"
   ]
  },
  {
   "cell_type": "code",
   "execution_count": 10,
   "id": "31f1c408",
   "metadata": {},
   "outputs": [],
   "source": [
    "out, hidden = cell(inputs, hidden)"
   ]
  },
  {
   "cell_type": "code",
   "execution_count": 12,
   "id": "3b9fca02",
   "metadata": {},
   "outputs": [
    {
     "name": "stdout",
     "output_type": "stream",
     "text": [
      "Output size torch.Size([3, 1, 2])\n",
      "Output: tensor([[[-0.0913, -0.6764]],\n",
      "\n",
      "        [[ 0.5097,  0.5233]],\n",
      "\n",
      "        [[ 0.3687, -0.0938]]], grad_fn=<StackBackward0>)\n",
      "Hidden size:  torch.Size([1, 1, 2])\n",
      "Hidden:  tensor([[[ 0.3687, -0.0938]]], grad_fn=<StackBackward0>)\n"
     ]
    }
   ],
   "source": [
    "print(\"Output size\" , out.shape)\n",
    "print(\"Output:\", out)\n",
    "print('Hidden size: ', hidden.shape)\n",
    "print('Hidden: ', hidden)"
   ]
  }
 ],
 "metadata": {
  "kernelspec": {
   "display_name": "Python 3",
   "language": "python",
   "name": "python3"
  },
  "language_info": {
   "codemirror_mode": {
    "name": "ipython",
    "version": 3
   },
   "file_extension": ".py",
   "mimetype": "text/x-python",
   "name": "python",
   "nbconvert_exporter": "python",
   "pygments_lexer": "ipython3",
   "version": "3.8.8"
  }
 },
 "nbformat": 4,
 "nbformat_minor": 5
}
