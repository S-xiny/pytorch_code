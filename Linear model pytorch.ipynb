{
 "cells": [
  {
   "cell_type": "code",
   "execution_count": 2,
   "id": "ca75f10e",
   "metadata": {},
   "outputs": [],
   "source": [
    "import torch"
   ]
  },
  {
   "cell_type": "code",
   "execution_count": 20,
   "id": "2a5c1d53",
   "metadata": {},
   "outputs": [],
   "source": [
    "x_data = torch.tensor([[1.0],[2.0],[3.0]])\n",
    "y_data = torch.tensor([[2.0],[4.0],[6.0]])"
   ]
  },
  {
   "cell_type": "code",
   "execution_count": 28,
   "id": "8c63951a",
   "metadata": {},
   "outputs": [],
   "source": [
    "class LinearModel(torch.nn.Module):\n",
    "    def __init__ (self):\n",
    "        super(LinearModel, self).__init__()\n",
    "        self.linear = torch.nn.Linear(1,1)\n",
    "    def forward(self, x):\n",
    "        y_pred = self.linear(x)\n",
    "        return y_pred\n"
   ]
  },
  {
   "cell_type": "code",
   "execution_count": 30,
   "id": "421e035f",
   "metadata": {},
   "outputs": [],
   "source": [
    "model = LinearModel()"
   ]
  },
  {
   "cell_type": "code",
   "execution_count": 32,
   "id": "25105c31",
   "metadata": {},
   "outputs": [],
   "source": [
    "criterion = torch.nn.MSELoss(reduction ='sum')\n",
    "optimizer = torch.optim.SGD(model.parameters(), lr = 0.01)"
   ]
  },
  {
   "cell_type": "code",
   "execution_count": 36,
   "id": "ebc5651b",
   "metadata": {},
   "outputs": [
    {
     "name": "stdout",
     "output_type": "stream",
     "text": [
      "0 tensor(0.0520, grad_fn=<MseLossBackward0>)\n",
      "1 tensor(0.0513, grad_fn=<MseLossBackward0>)\n",
      "2 tensor(0.0506, grad_fn=<MseLossBackward0>)\n",
      "3 tensor(0.0498, grad_fn=<MseLossBackward0>)\n",
      "4 tensor(0.0491, grad_fn=<MseLossBackward0>)\n",
      "5 tensor(0.0484, grad_fn=<MseLossBackward0>)\n",
      "6 tensor(0.0477, grad_fn=<MseLossBackward0>)\n",
      "7 tensor(0.0470, grad_fn=<MseLossBackward0>)\n",
      "8 tensor(0.0463, grad_fn=<MseLossBackward0>)\n",
      "9 tensor(0.0457, grad_fn=<MseLossBackward0>)\n",
      "10 tensor(0.0450, grad_fn=<MseLossBackward0>)\n",
      "11 tensor(0.0444, grad_fn=<MseLossBackward0>)\n",
      "12 tensor(0.0437, grad_fn=<MseLossBackward0>)\n",
      "13 tensor(0.0431, grad_fn=<MseLossBackward0>)\n",
      "14 tensor(0.0425, grad_fn=<MseLossBackward0>)\n",
      "15 tensor(0.0419, grad_fn=<MseLossBackward0>)\n",
      "16 tensor(0.0413, grad_fn=<MseLossBackward0>)\n",
      "17 tensor(0.0407, grad_fn=<MseLossBackward0>)\n",
      "18 tensor(0.0401, grad_fn=<MseLossBackward0>)\n",
      "19 tensor(0.0395, grad_fn=<MseLossBackward0>)\n",
      "20 tensor(0.0390, grad_fn=<MseLossBackward0>)\n",
      "21 tensor(0.0384, grad_fn=<MseLossBackward0>)\n",
      "22 tensor(0.0378, grad_fn=<MseLossBackward0>)\n",
      "23 tensor(0.0373, grad_fn=<MseLossBackward0>)\n",
      "24 tensor(0.0368, grad_fn=<MseLossBackward0>)\n",
      "25 tensor(0.0362, grad_fn=<MseLossBackward0>)\n",
      "26 tensor(0.0357, grad_fn=<MseLossBackward0>)\n",
      "27 tensor(0.0352, grad_fn=<MseLossBackward0>)\n",
      "28 tensor(0.0347, grad_fn=<MseLossBackward0>)\n",
      "29 tensor(0.0342, grad_fn=<MseLossBackward0>)\n",
      "30 tensor(0.0337, grad_fn=<MseLossBackward0>)\n",
      "31 tensor(0.0332, grad_fn=<MseLossBackward0>)\n",
      "32 tensor(0.0327, grad_fn=<MseLossBackward0>)\n",
      "33 tensor(0.0323, grad_fn=<MseLossBackward0>)\n",
      "34 tensor(0.0318, grad_fn=<MseLossBackward0>)\n",
      "35 tensor(0.0314, grad_fn=<MseLossBackward0>)\n",
      "36 tensor(0.0309, grad_fn=<MseLossBackward0>)\n",
      "37 tensor(0.0305, grad_fn=<MseLossBackward0>)\n",
      "38 tensor(0.0300, grad_fn=<MseLossBackward0>)\n",
      "39 tensor(0.0296, grad_fn=<MseLossBackward0>)\n",
      "40 tensor(0.0292, grad_fn=<MseLossBackward0>)\n",
      "41 tensor(0.0287, grad_fn=<MseLossBackward0>)\n",
      "42 tensor(0.0283, grad_fn=<MseLossBackward0>)\n",
      "43 tensor(0.0279, grad_fn=<MseLossBackward0>)\n",
      "44 tensor(0.0275, grad_fn=<MseLossBackward0>)\n",
      "45 tensor(0.0271, grad_fn=<MseLossBackward0>)\n",
      "46 tensor(0.0267, grad_fn=<MseLossBackward0>)\n",
      "47 tensor(0.0264, grad_fn=<MseLossBackward0>)\n",
      "48 tensor(0.0260, grad_fn=<MseLossBackward0>)\n",
      "49 tensor(0.0256, grad_fn=<MseLossBackward0>)\n",
      "50 tensor(0.0252, grad_fn=<MseLossBackward0>)\n",
      "51 tensor(0.0249, grad_fn=<MseLossBackward0>)\n",
      "52 tensor(0.0245, grad_fn=<MseLossBackward0>)\n",
      "53 tensor(0.0242, grad_fn=<MseLossBackward0>)\n",
      "54 tensor(0.0238, grad_fn=<MseLossBackward0>)\n",
      "55 tensor(0.0235, grad_fn=<MseLossBackward0>)\n",
      "56 tensor(0.0231, grad_fn=<MseLossBackward0>)\n",
      "57 tensor(0.0228, grad_fn=<MseLossBackward0>)\n",
      "58 tensor(0.0225, grad_fn=<MseLossBackward0>)\n",
      "59 tensor(0.0222, grad_fn=<MseLossBackward0>)\n",
      "60 tensor(0.0218, grad_fn=<MseLossBackward0>)\n",
      "61 tensor(0.0215, grad_fn=<MseLossBackward0>)\n",
      "62 tensor(0.0212, grad_fn=<MseLossBackward0>)\n",
      "63 tensor(0.0209, grad_fn=<MseLossBackward0>)\n",
      "64 tensor(0.0206, grad_fn=<MseLossBackward0>)\n",
      "65 tensor(0.0203, grad_fn=<MseLossBackward0>)\n",
      "66 tensor(0.0200, grad_fn=<MseLossBackward0>)\n",
      "67 tensor(0.0197, grad_fn=<MseLossBackward0>)\n",
      "68 tensor(0.0194, grad_fn=<MseLossBackward0>)\n",
      "69 tensor(0.0192, grad_fn=<MseLossBackward0>)\n",
      "70 tensor(0.0189, grad_fn=<MseLossBackward0>)\n",
      "71 tensor(0.0186, grad_fn=<MseLossBackward0>)\n",
      "72 tensor(0.0184, grad_fn=<MseLossBackward0>)\n",
      "73 tensor(0.0181, grad_fn=<MseLossBackward0>)\n",
      "74 tensor(0.0178, grad_fn=<MseLossBackward0>)\n",
      "75 tensor(0.0176, grad_fn=<MseLossBackward0>)\n",
      "76 tensor(0.0173, grad_fn=<MseLossBackward0>)\n",
      "77 tensor(0.0171, grad_fn=<MseLossBackward0>)\n",
      "78 tensor(0.0168, grad_fn=<MseLossBackward0>)\n",
      "79 tensor(0.0166, grad_fn=<MseLossBackward0>)\n",
      "80 tensor(0.0163, grad_fn=<MseLossBackward0>)\n",
      "81 tensor(0.0161, grad_fn=<MseLossBackward0>)\n",
      "82 tensor(0.0159, grad_fn=<MseLossBackward0>)\n",
      "83 tensor(0.0156, grad_fn=<MseLossBackward0>)\n",
      "84 tensor(0.0154, grad_fn=<MseLossBackward0>)\n",
      "85 tensor(0.0152, grad_fn=<MseLossBackward0>)\n",
      "86 tensor(0.0150, grad_fn=<MseLossBackward0>)\n",
      "87 tensor(0.0148, grad_fn=<MseLossBackward0>)\n",
      "88 tensor(0.0146, grad_fn=<MseLossBackward0>)\n",
      "89 tensor(0.0143, grad_fn=<MseLossBackward0>)\n",
      "90 tensor(0.0141, grad_fn=<MseLossBackward0>)\n",
      "91 tensor(0.0139, grad_fn=<MseLossBackward0>)\n",
      "92 tensor(0.0137, grad_fn=<MseLossBackward0>)\n",
      "93 tensor(0.0135, grad_fn=<MseLossBackward0>)\n",
      "94 tensor(0.0133, grad_fn=<MseLossBackward0>)\n",
      "95 tensor(0.0132, grad_fn=<MseLossBackward0>)\n",
      "96 tensor(0.0130, grad_fn=<MseLossBackward0>)\n",
      "97 tensor(0.0128, grad_fn=<MseLossBackward0>)\n",
      "98 tensor(0.0126, grad_fn=<MseLossBackward0>)\n",
      "99 tensor(0.0124, grad_fn=<MseLossBackward0>)\n"
     ]
    }
   ],
   "source": [
    "for  epoch in range(100):\n",
    "    y_pred = model(x_data)\n",
    "    loss = criterion(y_pred, y_data)\n",
    "    print(epoch, loss)\n",
    "    \n",
    "    optimizer.zero_grad()\n",
    "    loss.backward()\n",
    "    optimizer.step()"
   ]
  },
  {
   "cell_type": "code",
   "execution_count": 37,
   "id": "7b5db4cc",
   "metadata": {},
   "outputs": [
    {
     "name": "stdout",
     "output_type": "stream",
     "text": [
      "w =  1.9258261919021606\n",
      "b =  0.1686146855354309\n",
      "y_pred =  tensor([[7.8719]])\n"
     ]
    }
   ],
   "source": [
    "print('w = ', model.linear.weight.item())\n",
    "print('b = ', model.linear.bias.item())\n",
    "x_test = torch.Tensor([[4.0]])\n",
    "y_test = model(x_test)\n",
    "print('y_pred = ', y_test.data)"
   ]
  }
 ],
 "metadata": {
  "kernelspec": {
   "display_name": "Python 3",
   "language": "python",
   "name": "python3"
  },
  "language_info": {
   "codemirror_mode": {
    "name": "ipython",
    "version": 3
   },
   "file_extension": ".py",
   "mimetype": "text/x-python",
   "name": "python",
   "nbconvert_exporter": "python",
   "pygments_lexer": "ipython3",
   "version": "3.8.8"
  }
 },
 "nbformat": 4,
 "nbformat_minor": 5
}
