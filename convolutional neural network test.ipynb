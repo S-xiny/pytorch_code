{
 "cells": [
  {
   "cell_type": "code",
   "execution_count": 1,
   "id": "e655324f",
   "metadata": {},
   "outputs": [],
   "source": [
    "import torch"
   ]
  },
  {
   "cell_type": "code",
   "execution_count": 2,
   "id": "ef84e8ce",
   "metadata": {},
   "outputs": [
    {
     "name": "stdout",
     "output_type": "stream",
     "text": [
      "torch.Size([1, 5, 100, 100])\n",
      "torch.Size([1, 10, 98, 98])\n",
      "torch.Size([10, 5, 3, 3])\n"
     ]
    }
   ],
   "source": [
    "in_channels, out_channels = 5, 10\n",
    "width, height = 100, 100\n",
    "kernel_size = 3\n",
    "batch_size = 1\n",
    "input = torch.randn(batch_size,\n",
    "                   in_channels,\n",
    "                   width,\n",
    "                   height)\n",
    "conv_layer = torch.nn.Conv2d(in_channels,\n",
    "                            out_channels,\n",
    "                            kernel_size = kernel_size)\n",
    "\n",
    "output = conv_layer(input)\n",
    "print(input.shape)\n",
    "print(output.shape)\n",
    "print(conv_layer.weight.shape)"
   ]
  }
 ],
 "metadata": {
  "kernelspec": {
   "display_name": "Python 3",
   "language": "python",
   "name": "python3"
  },
  "language_info": {
   "codemirror_mode": {
    "name": "ipython",
    "version": 3
   },
   "file_extension": ".py",
   "mimetype": "text/x-python",
   "name": "python",
   "nbconvert_exporter": "python",
   "pygments_lexer": "ipython3",
   "version": "3.8.8"
  }
 },
 "nbformat": 4,
 "nbformat_minor": 5
}
