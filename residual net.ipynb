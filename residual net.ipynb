{
 "cells": [
  {
   "cell_type": "code",
   "execution_count": 16,
   "id": "7dd0197e",
   "metadata": {},
   "outputs": [],
   "source": [
    "import torch\n",
    "from torchvision import transforms\n",
    "from torchvision import datasets\n",
    "from torch.utils.data import DataLoader\n",
    "import torch.nn.functional as F\n",
    "import torch.optim as optim\n",
    "from matplotlib import pyplot as plt\n",
    "import numpy as np\n",
    "import pandas as pd"
   ]
  },
  {
   "cell_type": "code",
   "execution_count": 17,
   "id": "ab9380ef",
   "metadata": {},
   "outputs": [],
   "source": [
    "batch_size = 64\n",
    "transform = transforms.Compose([\n",
    "    transforms.ToTensor(),\n",
    "    transforms.Normalize((0.1307,),(0.3081,))\n",
    "])\n",
    "\n",
    "train_dataset = datasets.MNIST(root = '../dataset/mnist/',\n",
    "                              train=True,\n",
    "                              download = True,\n",
    "                              transform = transform)\n",
    "train_loader = DataLoader(train_dataset,\n",
    "                         shuffle = True,\n",
    "                         batch_size = batch_size)\n",
    "test_dataset = datasets.MNIST(root = '../dataset/mnist/',\n",
    "                             train = False,\n",
    "                             download = True,\n",
    "                             transform = transform)\n",
    "test_loader = DataLoader(test_dataset,\n",
    "                        shuffle = False,\n",
    "                        batch_size = batch_size)"
   ]
  },
  {
   "cell_type": "code",
   "execution_count": 18,
   "id": "59194b8c",
   "metadata": {},
   "outputs": [],
   "source": [
    "class ResidualBlock(torch.nn.Module):\n",
    "    def __init__(self, channels):\n",
    "        super(ResidualBlock, self).__init__()\n",
    "        self.channels = channels\n",
    "        self.conv1 = torch.nn.Conv2d(channels,\n",
    "                                     channels, \n",
    "                                     kernel_size = 3,\n",
    "                                     padding = 1)\n",
    "        self.conv2 = torch.nn.Conv2d(channels,\n",
    "                                    channels,\n",
    "                                    kernel_size = 3,\n",
    "                                    padding = 1)\n",
    "    def forward(self, x):\n",
    "        y = F.relu(self.conv1(x))\n",
    "        y = self.conv2(y)\n",
    "        return F.relu(x + y)"
   ]
  },
  {
   "cell_type": "code",
   "execution_count": 19,
   "id": "e18b6d35",
   "metadata": {},
   "outputs": [],
   "source": [
    "class Net(torch.nn.Module):\n",
    "    def __init__(self):\n",
    "        super(Net, self).__init__()\n",
    "        self.conv1 = torch.nn.Conv2d(1, 16, kernel_size = 5)\n",
    "        self.conv2 = torch.nn.Conv2d(16, 32, kernel_size = 5)\n",
    "        self.mp = torch.nn.MaxPool2d(2)\n",
    "        \n",
    "        self.rblock1 = ResidualBlock(16)\n",
    "        self.rblock2 = ResidualBlock(32)\n",
    "        \n",
    "        self.fc = torch.nn.Linear(512, 10)\n",
    "        \n",
    "    def forward(self, x):\n",
    "        in_size = x.size(0)\n",
    "        x = self.mp(F.relu(self.conv1(x)))\n",
    "        x = self.rblock1(x)\n",
    "        x = self.mp(F.relu(self.conv2(x)))\n",
    "        x = self.rblock2(x)\n",
    "        x = x.view(in_size, -1)\n",
    "        x = self.fc(x)\n",
    "        return x"
   ]
  },
  {
   "cell_type": "code",
   "execution_count": 20,
   "id": "f3fb0ef9",
   "metadata": {},
   "outputs": [
    {
     "data": {
      "text/plain": [
       "Net(\n",
       "  (conv1): Conv2d(1, 16, kernel_size=(5, 5), stride=(1, 1))\n",
       "  (conv2): Conv2d(16, 32, kernel_size=(5, 5), stride=(1, 1))\n",
       "  (mp): MaxPool2d(kernel_size=2, stride=2, padding=0, dilation=1, ceil_mode=False)\n",
       "  (rblock1): ResidualBlock(\n",
       "    (conv1): Conv2d(16, 16, kernel_size=(3, 3), stride=(1, 1), padding=(1, 1))\n",
       "    (conv2): Conv2d(16, 16, kernel_size=(3, 3), stride=(1, 1), padding=(1, 1))\n",
       "  )\n",
       "  (rblock2): ResidualBlock(\n",
       "    (conv1): Conv2d(32, 32, kernel_size=(3, 3), stride=(1, 1), padding=(1, 1))\n",
       "    (conv2): Conv2d(32, 32, kernel_size=(3, 3), stride=(1, 1), padding=(1, 1))\n",
       "  )\n",
       "  (fc): Linear(in_features=512, out_features=10, bias=True)\n",
       ")"
      ]
     },
     "execution_count": 20,
     "metadata": {},
     "output_type": "execute_result"
    }
   ],
   "source": [
    "model = Net()\n",
    "device = torch.device(\"cuda\" if torch.cuda.is_available() else \"cpu\")\n",
    "model.to(device)"
   ]
  },
  {
   "cell_type": "code",
   "execution_count": 21,
   "id": "cf79c016",
   "metadata": {},
   "outputs": [],
   "source": [
    "criterion = torch.nn.CrossEntropyLoss()\n",
    "optimizer = optim.SGD(model.parameters(), lr = 0.01, momentum = 0.5)"
   ]
  },
  {
   "cell_type": "code",
   "execution_count": 22,
   "id": "d107e187",
   "metadata": {},
   "outputs": [],
   "source": [
    "def train(epoch):\n",
    "    running_loss = 0.0\n",
    "    for batch_idx, data in enumerate(train_loader, 0):\n",
    "        inputs, target = data\n",
    "        inputs, target = inputs.to(device), target.to(device)\n",
    "        optimizer.zero_grad()\n",
    "        \n",
    "        #forward\n",
    "        outputs = model(inputs)\n",
    "        loss = criterion(outputs, target)\n",
    "        loss.backward()\n",
    "        optimizer.step()\n",
    "        \n",
    "        running_loss += loss.item()\n",
    "        if batch_idx % 300 == 299:\n",
    "            print('[%d, %5d] loss: %.3f' % (epoch +1, batch_idx +1, running_loss / 300))\n",
    "            running_loss = 0.0"
   ]
  },
  {
   "cell_type": "code",
   "execution_count": 23,
   "id": "feb2be39",
   "metadata": {},
   "outputs": [],
   "source": [
    "def test():\n",
    "    correct = 0\n",
    "    total = 0\n",
    "    with torch.no_grad():\n",
    "        for data in test_loader:\n",
    "            inputs, target = data\n",
    "            inputs, target = inputs.to(device), target.to(device)\n",
    "            outputs = model(inputs)\n",
    "            _, predicted = torch.max(outputs.data, dim = 1)\n",
    "            total += target.size(0)\n",
    "            correct += (predicted == target).sum().item()\n",
    "        print('Accuracy on test set: %d %%' % (100 * correct / total))\n",
    "    return 100 * correct / total"
   ]
  },
  {
   "cell_type": "code",
   "execution_count": 24,
   "id": "52dd613d",
   "metadata": {},
   "outputs": [
    {
     "name": "stdout",
     "output_type": "stream",
     "text": [
      "[1,   300] loss: 0.483\n",
      "[1,   600] loss: 0.147\n",
      "[1,   900] loss: 0.106\n",
      "Accuracy on test set: 97 %\n",
      "[2,   300] loss: 0.088\n",
      "[2,   600] loss: 0.083\n",
      "[2,   900] loss: 0.065\n",
      "Accuracy on test set: 98 %\n",
      "[3,   300] loss: 0.056\n",
      "[3,   600] loss: 0.060\n",
      "[3,   900] loss: 0.055\n",
      "Accuracy on test set: 98 %\n",
      "[4,   300] loss: 0.047\n",
      "[4,   600] loss: 0.044\n",
      "[4,   900] loss: 0.047\n",
      "Accuracy on test set: 98 %\n",
      "[5,   300] loss: 0.040\n",
      "[5,   600] loss: 0.037\n",
      "[5,   900] loss: 0.039\n",
      "Accuracy on test set: 98 %\n",
      "[6,   300] loss: 0.036\n",
      "[6,   600] loss: 0.033\n",
      "[6,   900] loss: 0.032\n",
      "Accuracy on test set: 98 %\n",
      "[7,   300] loss: 0.026\n",
      "[7,   600] loss: 0.032\n",
      "[7,   900] loss: 0.032\n",
      "Accuracy on test set: 98 %\n",
      "[8,   300] loss: 0.026\n",
      "[8,   600] loss: 0.029\n",
      "[8,   900] loss: 0.025\n",
      "Accuracy on test set: 98 %\n",
      "[9,   300] loss: 0.022\n",
      "[9,   600] loss: 0.026\n",
      "[9,   900] loss: 0.022\n",
      "Accuracy on test set: 98 %\n",
      "[10,   300] loss: 0.019\n",
      "[10,   600] loss: 0.020\n",
      "[10,   900] loss: 0.022\n",
      "Accuracy on test set: 98 %\n"
     ]
    }
   ],
   "source": [
    "if __name__ == '__main__':\n",
    "    correct = []\n",
    "    for epoch in range(10):\n",
    "        train(epoch)\n",
    "        correct.append(test())\n"
   ]
  },
  {
   "cell_type": "code",
   "execution_count": 25,
   "id": "b43acfb0",
   "metadata": {},
   "outputs": [
    {
     "data": {
      "text/plain": [
       "Text(0, 0.5, 'correct')"
      ]
     },
     "execution_count": 25,
     "metadata": {},
     "output_type": "execute_result"
    },
    {
     "data": {
      "image/png": "[encoded data removed]",
      "text/plain": [
       "<Figure size 432x288 with 1 Axes>"
      ]
     },
     "metadata": {
      "needs_background": "light"
     },
     "output_type": "display_data"
    }
   ],
   "source": [
    "x = np.linspace(0,9,10)\n",
    "correct = np.array(correct)\n",
    "plt.plot(x, correct, c = 'b')\n",
    "plt.title(\"google net\")\n",
    "plt.xlabel(\"epoch\")\n",
    "plt.ylabel(\"correct\")"
   ]
  }
 ],
 "metadata": {
  "kernelspec": {
   "display_name": "Python 3",
   "language": "python",
   "name": "python3"
  },
  "language_info": {
   "codemirror_mode": {
    "name": "ipython",
    "version": 3
   },
   "file_extension": ".py",
   "mimetype": "text/x-python",
   "name": "python",
   "nbconvert_exporter": "python",
   "pygments_lexer": "ipython3",
   "version": "3.8.8"
  }
 },
 "nbformat": 4,
 "nbformat_minor": 5
}
